{
  "cells": [
    {
      "cell_type": "markdown",
      "metadata": {
        "colab_type": "text",
        "id": "view-in-github"
      },
      "source": [
        "<a href=\"https://colab.research.google.com/github/paulynamagana/Covid19_Pneumonia_Classification/blob/main/classification_covid_pneumonia.ipynb\" target=\"_parent\"><img src=\"https://colab.research.google.com/assets/colab-badge.svg\" alt=\"Open In Colab\"/></a>"
      ]
    },
    {
      "cell_type": "code",
      "execution_count": 27,
      "metadata": {
        "id": "Y5N9hSqXv8np"
      },
      "outputs": [],
      "source": [
        "import tensorflow as tf\n",
        "from tensorflow import keras\n",
        "from tensorflow.keras.models import Sequential\n",
        "from tensorflow.keras.preprocessing.image import ImageDataGenerator\n",
        "\n",
        "from sklearn.metrics import classification_report\n",
        "from sklearn.metrics import confusion_matrix\n",
        "\n",
        "from tensorflow.keras.callbacks import EarlyStopping\n",
        "from tensorflow.keras import layers\n",
        "\n",
        "import matplotlib.pyplot as plt\n",
        "import numpy as np\n",
        "\n",
        "\n",
        "# Do Matplotlib extension below\n",
        "\n",
        "# use this savefig call at the end of your graph instead of using plt.show()\n",
        "\n",
        "# plt.savefig('static/images/my_plots.png')\n",
        "\n"
      ]
    },
    {
      "cell_type": "code",
      "execution_count": 13,
      "metadata": {},
      "outputs": [
        {
          "name": "stdout",
          "output_type": "stream",
          "text": [
            "\n",
            "Loading training data...\n",
            "Found 251 images belonging to 3 classes.\n",
            "(18, 256, 256, 1) (18, 3)\n"
          ]
        }
      ],
      "source": [
        "#create data generator\n",
        "print(\"\\nLoading training data...\")\n",
        "\n",
        "training_data_generator = ImageDataGenerator(\n",
        "    rescale=1.0/255,\n",
        "    zoom_range=0.2,\n",
        "    rotation_range=15,\n",
        "    width_shift_range=0.05,\n",
        "    height_shift_range=0.05)\n",
        "\n",
        "CLASS_MODE = \"categorical\"\n",
        "COLOR_MODE= \"grayscale\"\n",
        "TARGET_SIZE= (256,256)\n",
        "BATCH_SIZE= 32\n",
        "\n",
        "training_iterator= training_data_generator.flow_from_directory(\n",
        "    \"Covid19-dataset/train\",\n",
        "    class_mode = CLASS_MODE,\n",
        "    color_mode= COLOR_MODE,\n",
        "    target_size = TARGET_SIZE,\n",
        "    batch_size = BATCH_SIZE)\n",
        "\n",
        "sample_batch_input, sample_batch_labels = training_iterator.next()\n",
        "print(sample_batch_input.shape, sample_batch_labels.shape)"
      ]
    },
    {
      "cell_type": "code",
      "execution_count": 14,
      "metadata": {},
      "outputs": [
        {
          "name": "stdout",
          "output_type": "stream",
          "text": [
            "\n",
            "Loading validation data...\n",
            "Found 66 images belonging to 3 classes.\n",
            "\n",
            "Building model...\n"
          ]
        }
      ],
      "source": [
        "#test data iterator\n",
        "print(\"\\nLoading validation data...\")\n",
        "\n",
        "test_data_generator = ImageDataGenerator(\n",
        "        rescale=1.0/255)\n",
        "\n",
        "test_iterator = test_data_generator.flow_from_directory(\n",
        "        'Covid19-dataset/test',\n",
        "        class_mode=CLASS_MODE,\n",
        "        color_mode=COLOR_MODE,\n",
        "        batch_size=BATCH_SIZE)\n",
        "print(\"\\nBuilding model...\")"
      ]
    },
    {
      "cell_type": "code",
      "execution_count": 18,
      "metadata": {},
      "outputs": [
        {
          "name": "stdout",
          "output_type": "stream",
          "text": [
            "Model: \"sequential_3\"\n",
            "_________________________________________________________________\n",
            " Layer (type)                Output Shape              Param #   \n",
            "=================================================================\n",
            " conv2d_4 (Conv2D)           (None, 86, 86, 2)         52        \n",
            "                                                                 \n",
            " max_pooling2d_4 (MaxPooling  (None, 17, 17, 2)        0         \n",
            " 2D)                                                             \n",
            "                                                                 \n",
            " conv2d_5 (Conv2D)           (None, 9, 9, 4)           76        \n",
            "                                                                 \n",
            " max_pooling2d_5 (MaxPooling  (None, 4, 4, 4)          0         \n",
            " 2D)                                                             \n",
            "                                                                 \n",
            " flatten_2 (Flatten)         (None, 64)                0         \n",
            "                                                                 \n",
            " dense_2 (Dense)             (None, 3)                 195       \n",
            "                                                                 \n",
            "=================================================================\n",
            "Total params: 323\n",
            "Trainable params: 323\n",
            "Non-trainable params: 0\n",
            "_________________________________________________________________\n"
          ]
        }
      ],
      "source": [
        "model = tf.keras.Sequential()\n",
        "model.add(tf.keras.Input(shape = (256, 256, 1)))\n",
        "model.add(tf.keras.layers.Conv2D(2, 5, strides=3, padding=\"same\", activation=\"relu\"))\n",
        "model.add(tf.keras.layers.MaxPooling2D(pool_size=(5, 5), strides=(5,5)))\n",
        "model.add(tf.keras.layers.Conv2D(4, 3, strides=2, padding=\"same\", activation=\"relu\"))\n",
        "model.add(tf.keras.layers.MaxPooling2D(pool_size=(2,2), strides=(2,2)))\n",
        "model.add(tf.keras.layers.Flatten())\n",
        "model.add(tf.keras.layers.Dense(3,activation=\"softmax\"))\n",
        "model.summary()\n"
      ]
    },
    {
      "cell_type": "code",
      "execution_count": 24,
      "metadata": {},
      "outputs": [
        {
          "name": "stdout",
          "output_type": "stream",
          "text": [
            "\n",
            "Compiling model...\n"
          ]
        }
      ],
      "source": [
        "print(\"\\nCompiling model...\")\n",
        "#3) Compile the model with an Adam optimizer, Categorical Cross Entropy Loss, and Accuracy and AUC metrics:\n",
        "model.compile(\n",
        "  optimizer=tf.keras.optimizers.Adam(learning_rate=0.001),\n",
        "  loss=tf.keras.losses.CategoricalCrossentropy() ,\n",
        "  metrics=[tf.keras.metrics.CategoricalAccuracy(),\n",
        "  tf.keras.metrics.AUC()]\n",
        ")"
      ]
    },
    {
      "cell_type": "code",
      "execution_count": 25,
      "metadata": {},
      "outputs": [
        {
          "name": "stdout",
          "output_type": "stream",
          "text": [
            "\n",
            "Training model...\n",
            "Epoch 1/5\n",
            "13/13 [==============================] - 5s 297ms/step - loss: 0.5745 - categorical_accuracy: 0.7769 - auc_3: 0.9279 - val_loss: 0.6186 - val_categorical_accuracy: 0.8030 - val_auc_3: 0.9189\n",
            "Epoch 2/5\n",
            "13/13 [==============================] - 4s 250ms/step - loss: 0.5925 - categorical_accuracy: 0.7809 - auc_3: 0.9195 - val_loss: 0.5824 - val_categorical_accuracy: 0.8182 - val_auc_3: 0.9339\n",
            "Epoch 3/5\n",
            "13/13 [==============================] - 4s 255ms/step - loss: 0.5663 - categorical_accuracy: 0.7849 - auc_3: 0.9309 - val_loss: 0.6040 - val_categorical_accuracy: 0.8030 - val_auc_3: 0.9174\n",
            "Epoch 4/5\n",
            "13/13 [==============================] - 4s 300ms/step - loss: 0.5721 - categorical_accuracy: 0.7769 - auc_3: 0.9242 - val_loss: 0.5859 - val_categorical_accuracy: 0.8030 - val_auc_3: 0.9271\n",
            "Epoch 5/5\n",
            "13/13 [==============================] - 4s 257ms/step - loss: 0.5471 - categorical_accuracy: 0.7928 - auc_3: 0.9304 - val_loss: 0.5653 - val_categorical_accuracy: 0.7727 - val_auc_3: 0.9291\n"
          ]
        }
      ],
      "source": [
        "print(\"\\nTraining model...\")\n",
        "#4) Use model.fit(...) to train and validate our model for 5 epochs:\n",
        "history = model.fit(\n",
        "        training_iterator,\n",
        "        steps_per_epoch=training_iterator.samples/BATCH_SIZE,\n",
        "        epochs=5,\n",
        "        validation_data=test_iterator ,\n",
        "        validation_steps=test_iterator.samples/BATCH_SIZE)"
      ]
    },
    {
      "cell_type": "code",
      "execution_count": 28,
      "metadata": {},
      "outputs": [
        {
          "name": "stdout",
          "output_type": "stream",
          "text": [
            "              precision    recall  f1-score   support\n",
            "\n",
            "       Covid       0.30      0.27      0.29        26\n",
            "      Normal       0.21      0.15      0.18        20\n",
            "   Pneumonia       0.24      0.35      0.29        20\n",
            "\n",
            "    accuracy                           0.26        66\n",
            "   macro avg       0.25      0.26      0.25        66\n",
            "weighted avg       0.26      0.26      0.25        66\n",
            "\n",
            "[[ 7  6 13]\n",
            " [ 8  3  9]\n",
            " [ 8  5  7]]\n"
          ]
        }
      ],
      "source": [
        "test_steps_per_epoch = np.math.ceil(test_iterator.samples / test_iterator.batch_size)\n",
        "predictions = model.predict(test_iterator, steps=test_steps_per_epoch)\n",
        "test_steps_per_epoch = np.math.ceil(test_iterator.samples / test_iterator.batch_size)\n",
        "predicted_classes = np.argmax(predictions, axis=1)\n",
        "true_classes = test_iterator.classes\n",
        "class_labels = list(test_iterator.class_indices.keys())\n",
        "report = classification_report(true_classes, predicted_classes, target_names=class_labels)\n",
        "print(report)\n",
        "\n",
        "cm=confusion_matrix(true_classes,predicted_classes)\n",
        "print(cm)"
      ]
    },
    {
      "cell_type": "code",
      "execution_count": 26,
      "metadata": {},
      "outputs": [
        {
          "ename": "KeyError",
          "evalue": "'auc'",
          "output_type": "error",
          "traceback": [
            "\u001b[0;31m---------------------------------------------------------------------------\u001b[0m",
            "\u001b[0;31mKeyError\u001b[0m                                  Traceback (most recent call last)",
            "\u001b[0;32m/var/folders/6c/zltlp5xs2kl551dv8jgmxmdh0000gn/T/ipykernel_58801/3902360299.py\u001b[0m in \u001b[0;36m<module>\u001b[0;34m\u001b[0m\n\u001b[1;32m     11\u001b[0m \u001b[0;31m# plotting auc and validation auc over epochs\u001b[0m\u001b[0;34m\u001b[0m\u001b[0;34m\u001b[0m\u001b[0m\n\u001b[1;32m     12\u001b[0m \u001b[0max2\u001b[0m \u001b[0;34m=\u001b[0m \u001b[0mfig\u001b[0m\u001b[0;34m.\u001b[0m\u001b[0madd_subplot\u001b[0m\u001b[0;34m(\u001b[0m\u001b[0;36m2\u001b[0m\u001b[0;34m,\u001b[0m \u001b[0;36m1\u001b[0m\u001b[0;34m,\u001b[0m \u001b[0;36m2\u001b[0m\u001b[0;34m)\u001b[0m\u001b[0;34m\u001b[0m\u001b[0;34m\u001b[0m\u001b[0m\n\u001b[0;32m---> 13\u001b[0;31m \u001b[0max2\u001b[0m\u001b[0;34m.\u001b[0m\u001b[0mplot\u001b[0m\u001b[0;34m(\u001b[0m\u001b[0mhistory\u001b[0m\u001b[0;34m.\u001b[0m\u001b[0mhistory\u001b[0m\u001b[0;34m[\u001b[0m\u001b[0;34m'auc'\u001b[0m\u001b[0;34m]\u001b[0m\u001b[0;34m)\u001b[0m\u001b[0;34m\u001b[0m\u001b[0;34m\u001b[0m\u001b[0m\n\u001b[0m\u001b[1;32m     14\u001b[0m \u001b[0max2\u001b[0m\u001b[0;34m.\u001b[0m\u001b[0mplot\u001b[0m\u001b[0;34m(\u001b[0m\u001b[0mhistory\u001b[0m\u001b[0;34m.\u001b[0m\u001b[0mhistory\u001b[0m\u001b[0;34m[\u001b[0m\u001b[0;34m'val_auc'\u001b[0m\u001b[0;34m]\u001b[0m\u001b[0;34m)\u001b[0m\u001b[0;34m\u001b[0m\u001b[0;34m\u001b[0m\u001b[0m\n\u001b[1;32m     15\u001b[0m \u001b[0max2\u001b[0m\u001b[0;34m.\u001b[0m\u001b[0mset_title\u001b[0m\u001b[0;34m(\u001b[0m\u001b[0;34m'model auc'\u001b[0m\u001b[0;34m)\u001b[0m\u001b[0;34m\u001b[0m\u001b[0;34m\u001b[0m\u001b[0m\n",
            "\u001b[0;31mKeyError\u001b[0m: 'auc'"
          ]
        },
        {
          "data": {
            "image/png": "[encoded data removed]",
            "text/plain": [
              "<Figure size 432x288 with 2 Axes>"
            ]
          },
          "metadata": {
            "needs_background": "light"
          },
          "output_type": "display_data"
        }
      ],
      "source": [
        "# plotting categorical and validation accuracy over epochs\n",
        "fig = plt.figure()\n",
        "ax1 = fig.add_subplot(2, 1, 1)\n",
        "ax1.plot(history.history['categorical_accuracy'])\n",
        "ax1.plot(history.history['val_categorical_accuracy'])\n",
        "ax1.set_title('model accuracy')\n",
        "ax1.set_xlabel('epoch')\n",
        "ax1.set_ylabel('accuracy')\n",
        "ax1.legend(['train', 'validation'], loc='upper left')\n",
        "\n",
        "# plotting auc and validation auc over epochs\n",
        "ax2 = fig.add_subplot(2, 1, 2)\n",
        "ax2.plot(history.history['auc'])\n",
        "ax2.plot(history.history['val_auc'])\n",
        "ax2.set_title('model auc')\n",
        "ax2.set_xlabel('epoch')\n",
        "ax2.set_ylabel('auc')\n",
        "ax2.legend(['train', 'validation'], loc='upper left')\n",
        "\n",
        "# used to keep plots from overlapping\n",
        "fig.tight_layout()\n",
        "fig.savefig('static/images/my_plots.png')"
      ]
    }
  ],
  "metadata": {
    "colab": {
      "authorship_tag": "ABX9TyPlQxEjQydReyUkPw6Bk6pj",
      "collapsed_sections": [],
      "include_colab_link": true,
      "name": "Untitled4.ipynb",
      "provenance": []
    },
    "kernelspec": {
      "display_name": "Python 3",
      "name": "python3"
    },
    "language_info": {
      "codemirror_mode": {
        "name": "ipython",
        "version": 3
      },
      "file_extension": ".py",
      "mimetype": "text/x-python",
      "name": "python",
      "nbconvert_exporter": "python",
      "pygments_lexer": "ipython3",
      "version": "3.10.0"
    }
  },
  "nbformat": 4,
  "nbformat_minor": 0
}
