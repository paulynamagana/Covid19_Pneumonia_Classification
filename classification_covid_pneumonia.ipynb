{
  "cells": [
    {
      "cell_type": "markdown",
      "metadata": {
        "colab_type": "text",
        "id": "view-in-github"
      },
      "source": [
        "<a href=\"https://colab.research.google.com/github/paulynamagana/Covid19_Pneumonia_Classification/blob/main/classification_covid_pneumonia.ipynb\" target=\"_parent\"><img src=\"https://colab.research.google.com/assets/colab-badge.svg\" alt=\"Open In Colab\"/></a>"
      ]
    },
    {
      "cell_type": "code",
      "execution_count": 17,
      "metadata": {
        "id": "Y5N9hSqXv8np"
      },
      "outputs": [],
      "source": [
        "import tensorflow as tf\n",
        "from tensorflow import keras\n",
        "from tensorflow.keras.models import Sequential\n",
        "from tensorflow.keras.preprocessing.image import ImageDataGenerator\n",
        "\n",
        "from sklearn.metrics import classification_report\n",
        "from sklearn.metrics import confusion_matrix\n",
        "\n",
        "from tensorflow.keras.callbacks import EarlyStopping\n",
        "from tensorflow.keras import layers\n",
        "\n",
        "import matplotlib.pyplot as plt\n",
        "import numpy as np\n",
        "\n",
        "\n",
        "# Do Matplotlib extension below\n",
        "# use this savefig call at the end of the graph instead of using plt.show()\n",
        "# plt.savefig('static/images/my_plots.png')\n",
        "\n"
      ]
    },
    {
      "cell_type": "code",
      "execution_count": 18,
      "metadata": {},
      "outputs": [
        {
          "name": "stdout",
          "output_type": "stream",
          "text": [
            "\n",
            "Loading training data...\n",
            "Found 251 images belonging to 3 classes.\n",
            "(32, 256, 256, 1) (32, 3)\n"
          ]
        }
      ],
      "source": [
        "#create data generator\n",
        "print(\"\\nLoading training data...\")\n",
        "\n",
        "training_data_generator = ImageDataGenerator(\n",
        "    rescale=1.0/255,\n",
        "    zoom_range=0.2,\n",
        "    rotation_range=15,\n",
        "    width_shift_range=0.05,\n",
        "    height_shift_range=0.05)\n",
        "\n",
        "CLASS_MODE = \"categorical\"\n",
        "COLOR_MODE= \"grayscale\"\n",
        "TARGET_SIZE= (256,256)\n",
        "BATCH_SIZE= 32\n",
        "\n",
        "training_iterator= training_data_generator.flow_from_directory(\n",
        "    \"Covid19-dataset/train\",\n",
        "    class_mode = CLASS_MODE,\n",
        "    color_mode= COLOR_MODE,\n",
        "    target_size = TARGET_SIZE,\n",
        "    batch_size = BATCH_SIZE)\n",
        "\n",
        "sample_batch_input, sample_batch_labels = training_iterator.next()\n",
        "print(sample_batch_input.shape, sample_batch_labels.shape)"
      ]
    },
    {
      "cell_type": "code",
      "execution_count": 19,
      "metadata": {},
      "outputs": [
        {
          "name": "stdout",
          "output_type": "stream",
          "text": [
            "\n",
            "Loading validation data...\n",
            "Found 66 images belonging to 3 classes.\n",
            "\n",
            "Building model...\n"
          ]
        }
      ],
      "source": [
        "#test data iterator\n",
        "print(\"\\nLoading validation data...\")\n",
        "\n",
        "test_data_generator = ImageDataGenerator(\n",
        "        rescale=1.0/255)\n",
        "\n",
        "test_iterator = test_data_generator.flow_from_directory(\n",
        "        'Covid19-dataset/test',\n",
        "        class_mode=CLASS_MODE,\n",
        "        color_mode=COLOR_MODE,\n",
        "        batch_size=BATCH_SIZE)\n",
        "print(\"\\nBuilding model...\")"
      ]
    },
    {
      "cell_type": "code",
      "execution_count": 20,
      "metadata": {},
      "outputs": [
        {
          "name": "stdout",
          "output_type": "stream",
          "text": [
            "Model: \"sequential_2\"\n",
            "_________________________________________________________________\n",
            " Layer (type)                Output Shape              Param #   \n",
            "=================================================================\n",
            " conv2d_4 (Conv2D)           (None, 86, 86, 2)         52        \n",
            "                                                                 \n",
            " max_pooling2d_4 (MaxPooling  (None, 17, 17, 2)        0         \n",
            " 2D)                                                             \n",
            "                                                                 \n",
            " conv2d_5 (Conv2D)           (None, 9, 9, 4)           76        \n",
            "                                                                 \n",
            " max_pooling2d_5 (MaxPooling  (None, 4, 4, 4)          0         \n",
            " 2D)                                                             \n",
            "                                                                 \n",
            " flatten_2 (Flatten)         (None, 64)                0         \n",
            "                                                                 \n",
            " dense_2 (Dense)             (None, 3)                 195       \n",
            "                                                                 \n",
            "=================================================================\n",
            "Total params: 323\n",
            "Trainable params: 323\n",
            "Non-trainable params: 0\n",
            "_________________________________________________________________\n"
          ]
        }
      ],
      "source": [
        "model = tf.keras.Sequential()\n",
        "model.add(tf.keras.Input(shape = (256, 256, 1)))\n",
        "model.add(tf.keras.layers.Conv2D(2, 5, strides=3, padding=\"same\", activation=\"relu\"))\n",
        "model.add(tf.keras.layers.MaxPooling2D(pool_size=(5, 5), strides=(5,5)))\n",
        "model.add(tf.keras.layers.Conv2D(4, 3, strides=2, padding=\"same\", activation=\"relu\"))\n",
        "model.add(tf.keras.layers.MaxPooling2D(pool_size=(2,2), strides=(2,2)))\n",
        "model.add(tf.keras.layers.Flatten())\n",
        "model.add(tf.keras.layers.Dense(3,activation=\"softmax\"))\n",
        "model.summary()\n"
      ]
    },
    {
      "cell_type": "code",
      "execution_count": 21,
      "metadata": {},
      "outputs": [
        {
          "name": "stdout",
          "output_type": "stream",
          "text": [
            "\n",
            "Compiling model...\n"
          ]
        }
      ],
      "source": [
        "print(\"\\nCompiling model...\")\n",
        "model.compile(\n",
        "  optimizer=tf.keras.optimizers.Adam(learning_rate=0.001),\n",
        "  loss=tf.keras.losses.CategoricalCrossentropy() ,\n",
        "  metrics=[tf.keras.metrics.CategoricalAccuracy(),\n",
        "  tf.keras.metrics.AUC()]\n",
        ")"
      ]
    },
    {
      "cell_type": "code",
      "execution_count": 22,
      "metadata": {},
      "outputs": [
        {
          "name": "stdout",
          "output_type": "stream",
          "text": [
            "\n",
            "Training model...\n",
            "Epoch 1/15\n",
            "7/7 [==============================] - 4s 469ms/step - loss: 1.1177 - categorical_accuracy: 0.2629 - auc_2: 0.4662 - val_loss: 1.1024 - val_categorical_accuracy: 0.3182 - val_auc_2: 0.4973\n",
            "Epoch 2/15\n",
            "7/7 [==============================] - 4s 534ms/step - loss: 1.1053 - categorical_accuracy: 0.2470 - auc_2: 0.4645 - val_loss: 1.0960 - val_categorical_accuracy: 0.3939 - val_auc_2: 0.5248\n",
            "Epoch 3/15\n",
            "7/7 [==============================] - 3s 418ms/step - loss: 1.0982 - categorical_accuracy: 0.4024 - auc_2: 0.5215 - val_loss: 1.0931 - val_categorical_accuracy: 0.4091 - val_auc_2: 0.5473\n",
            "Epoch 4/15\n",
            "7/7 [==============================] - 4s 468ms/step - loss: 1.0943 - categorical_accuracy: 0.4303 - auc_2: 0.5465 - val_loss: 1.0920 - val_categorical_accuracy: 0.3788 - val_auc_2: 0.5527\n",
            "Epoch 5/15\n",
            "7/7 [==============================] - 4s 488ms/step - loss: 1.0918 - categorical_accuracy: 0.4462 - auc_2: 0.5511 - val_loss: 1.0913 - val_categorical_accuracy: 0.3939 - val_auc_2: 0.5463\n",
            "Epoch 6/15\n",
            "7/7 [==============================] - 3s 412ms/step - loss: 1.0908 - categorical_accuracy: 0.4422 - auc_2: 0.5481 - val_loss: 1.0906 - val_categorical_accuracy: 0.3939 - val_auc_2: 0.5520\n",
            "Epoch 7/15\n",
            "7/7 [==============================] - 3s 400ms/step - loss: 1.0903 - categorical_accuracy: 0.4422 - auc_2: 0.5466 - val_loss: 1.0896 - val_categorical_accuracy: 0.3939 - val_auc_2: 0.5577\n",
            "Epoch 8/15\n",
            "7/7 [==============================] - 3s 412ms/step - loss: 1.0865 - categorical_accuracy: 0.4422 - auc_2: 0.5516 - val_loss: 1.0892 - val_categorical_accuracy: 0.3939 - val_auc_2: 0.5542\n",
            "Epoch 9/15\n",
            "7/7 [==============================] - 3s 393ms/step - loss: 1.0835 - categorical_accuracy: 0.4422 - auc_2: 0.5608 - val_loss: 1.0887 - val_categorical_accuracy: 0.3939 - val_auc_2: 0.5553\n",
            "Epoch 10/15\n",
            "7/7 [==============================] - 3s 401ms/step - loss: 1.0833 - categorical_accuracy: 0.4422 - auc_2: 0.5633 - val_loss: 1.0879 - val_categorical_accuracy: 0.3939 - val_auc_2: 0.5602\n",
            "Epoch 11/15\n",
            "7/7 [==============================] - 4s 453ms/step - loss: 1.0819 - categorical_accuracy: 0.4422 - auc_2: 0.5631 - val_loss: 1.0872 - val_categorical_accuracy: 0.3939 - val_auc_2: 0.5643\n",
            "Epoch 12/15\n",
            "7/7 [==============================] - 4s 460ms/step - loss: 1.0783 - categorical_accuracy: 0.4422 - auc_2: 0.5782 - val_loss: 1.0857 - val_categorical_accuracy: 0.3939 - val_auc_2: 0.5617\n",
            "Epoch 13/15\n",
            "7/7 [==============================] - 3s 424ms/step - loss: 1.0774 - categorical_accuracy: 0.4422 - auc_2: 0.5828 - val_loss: 1.0840 - val_categorical_accuracy: 0.3939 - val_auc_2: 0.5789\n",
            "Epoch 14/15\n",
            "7/7 [==============================] - 4s 454ms/step - loss: 1.0739 - categorical_accuracy: 0.4422 - auc_2: 0.5961 - val_loss: 1.0798 - val_categorical_accuracy: 0.3939 - val_auc_2: 0.6012\n",
            "Epoch 15/15\n",
            "7/7 [==============================] - 3s 426ms/step - loss: 1.0674 - categorical_accuracy: 0.4462 - auc_2: 0.6300 - val_loss: 1.0729 - val_categorical_accuracy: 0.3788 - val_auc_2: 0.6144\n"
          ]
        }
      ],
      "source": [
        "print(\"\\nTraining model...\")\n",
        "history = model.fit(\n",
        "        training_iterator,\n",
        "        steps_per_epoch=training_iterator.samples/BATCH_SIZE,\n",
        "        epochs=15,\n",
        "        validation_data=test_iterator ,\n",
        "        validation_steps=test_iterator.samples/BATCH_SIZE)"
      ]
    },
    {
      "cell_type": "code",
      "execution_count": 23,
      "metadata": {},
      "outputs": [
        {
          "name": "stdout",
          "output_type": "stream",
          "text": [
            "              precision    recall  f1-score   support\n",
            "\n",
            "       Covid       0.41      0.96      0.57        26\n",
            "      Normal       0.40      0.10      0.16        20\n",
            "   Pneumonia       0.00      0.00      0.00        20\n",
            "\n",
            "    accuracy                           0.41        66\n",
            "   macro avg       0.27      0.35      0.24        66\n",
            "weighted avg       0.28      0.41      0.27        66\n",
            "\n",
            "[[25  1  0]\n",
            " [18  2  0]\n",
            " [18  2  0]]\n"
          ]
        },
        {
          "name": "stderr",
          "output_type": "stream",
          "text": [
            "/Library/Frameworks/Python.framework/Versions/3.10/lib/python3.10/site-packages/sklearn/metrics/_classification.py:1308: UndefinedMetricWarning: Precision and F-score are ill-defined and being set to 0.0 in labels with no predicted samples. Use `zero_division` parameter to control this behavior.\n",
            "  _warn_prf(average, modifier, msg_start, len(result))\n",
            "/Library/Frameworks/Python.framework/Versions/3.10/lib/python3.10/site-packages/sklearn/metrics/_classification.py:1308: UndefinedMetricWarning: Precision and F-score are ill-defined and being set to 0.0 in labels with no predicted samples. Use `zero_division` parameter to control this behavior.\n",
            "  _warn_prf(average, modifier, msg_start, len(result))\n",
            "/Library/Frameworks/Python.framework/Versions/3.10/lib/python3.10/site-packages/sklearn/metrics/_classification.py:1308: UndefinedMetricWarning: Precision and F-score are ill-defined and being set to 0.0 in labels with no predicted samples. Use `zero_division` parameter to control this behavior.\n",
            "  _warn_prf(average, modifier, msg_start, len(result))\n"
          ]
        }
      ],
      "source": [
        "test_steps_per_epoch = np.math.ceil(test_iterator.samples / test_iterator.batch_size)\n",
        "predictions = model.predict(test_iterator, steps=test_steps_per_epoch)\n",
        "test_steps_per_epoch = np.math.ceil(test_iterator.samples / test_iterator.batch_size)\n",
        "predicted_classes = np.argmax(predictions, axis=1)\n",
        "true_classes = test_iterator.classes\n",
        "class_labels = list(test_iterator.class_indices.keys())\n",
        "report = classification_report(true_classes, predicted_classes, target_names=class_labels)\n",
        "print(report)\n",
        "\n",
        "cm=confusion_matrix(true_classes,predicted_classes)\n",
        "print(cm)"
      ]
    },
    {
      "cell_type": "code",
      "execution_count": 24,
      "metadata": {},
      "outputs": [
        {
          "data": {
            "image/png": "[encoded data removed]",
            "text/plain": [
              "<Figure size 432x288 with 2 Axes>"
            ]
          },
          "metadata": {
            "needs_background": "light"
          },
          "output_type": "display_data"
        }
      ],
      "source": [
        "# plotting categorical and validation accuracy over epochs\n",
        "fig = plt.figure()\n",
        "ax1 = fig.add_subplot(2, 1, 1)\n",
        "ax1.plot(history.history['categorical_accuracy'])\n",
        "ax1.plot(history.history['val_categorical_accuracy'])\n",
        "ax1.set_title('model accuracy')\n",
        "ax1.set_xlabel('epoch')\n",
        "ax1.set_ylabel('accuracy')\n",
        "ax1.legend(['train', 'validation'], loc='upper left')\n",
        "\n",
        "# plotting auc and validation auc over epochs\n",
        "ax2 = fig.add_subplot(2, 1, 2)\n",
        "ax2.plot(history.history['loss'])\n",
        "ax2.plot(history.history['val_loss'])\n",
        "ax2.set_title('model loss')\n",
        "ax2.set_xlabel('epoch')\n",
        "ax2.set_ylabel('loss')\n",
        "ax2.legend(['train', 'validation'], loc='upper left')\n",
        "\n",
        "# used to keep plots from overlapping\n",
        "fig.tight_layout()\n",
        "fig.savefig(\"acc_loss.png\")"
      ]
    }
  ],
  "metadata": {
    "colab": {
      "authorship_tag": "ABX9TyPlQxEjQydReyUkPw6Bk6pj",
      "collapsed_sections": [],
      "include_colab_link": true,
      "name": "Untitled4.ipynb",
      "provenance": []
    },
    "kernelspec": {
      "display_name": "Python 3",
      "language": "python",
      "name": "python3"
    },
    "language_info": {
      "codemirror_mode": {
        "name": "ipython",
        "version": 3
      },
      "file_extension": ".py",
      "mimetype": "text/x-python",
      "name": "python",
      "nbconvert_exporter": "python",
      "pygments_lexer": "ipython3",
      "version": "3.10.0 (v3.10.0:b494f5935c, Oct  4 2021, 14:59:20) [Clang 12.0.5 (clang-1205.0.22.11)]"
    },
    "vscode": {
      "interpreter": {
        "hash": "aee8b7b246df8f9039afb4144a1f6fd8d2ca17a180786b69acc140d282b71a49"
      }
    }
  },
  "nbformat": 4,
  "nbformat_minor": 0
}
